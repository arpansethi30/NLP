{
 "cells": [
  {
   "cell_type": "code",
   "execution_count": 3,
   "metadata": {},
   "outputs": [
    {
     "name": "stdout",
     "output_type": "stream",
     "text": [
      "\u001b[1m\n",
      "============================== Info about spaCy ==============================\u001b[0m\n",
      "\n",
      "spaCy version    3.5.0                         \n",
      "Location         c:\\Python\\Lib\\site-packages\\spacy\n",
      "Platform         Windows-10-10.0.22624-SP0     \n",
      "Python version   3.11.2                        \n",
      "Pipelines                                      \n",
      "\n"
     ]
    }
   ],
   "source": [
    "!python -m spacy info"
   ]
  },
  {
   "cell_type": "code",
   "execution_count": 4,
   "metadata": {},
   "outputs": [],
   "source": [
    "import spacy"
   ]
  },
  {
   "cell_type": "code",
   "execution_count": 5,
   "metadata": {},
   "outputs": [
    {
     "name": "stdout",
     "output_type": "stream",
     "text": [
      "Collecting en-core-web-sm==3.5.0\n",
      "  Downloading https://github.com/explosion/spacy-models/releases/download/en_core_web_sm-3.5.0/en_core_web_sm-3.5.0-py3-none-any.whl (12.8 MB)\n",
      "     ---------------------------------------- 0.0/12.8 MB ? eta -:--:--\n",
      "     ---------------------------------------- 0.0/12.8 MB ? eta -:--:--\n",
      "     ---------------------------------------- 0.0/12.8 MB ? eta -:--:--\n",
      "     ---------------------------------------- 0.0/12.8 MB ? eta -:--:--\n",
      "     ---------------------------------------- 0.0/12.8 MB ? eta -:--:--\n",
      "     --------------------------------------- 0.0/12.8 MB 151.3 kB/s eta 0:01:25\n",
      "     --------------------------------------- 0.0/12.8 MB 151.3 kB/s eta 0:01:25\n",
      "     --------------------------------------- 0.0/12.8 MB 151.3 kB/s eta 0:01:25\n",
      "     --------------------------------------- 0.0/12.8 MB 151.3 kB/s eta 0:01:25\n",
      "     --------------------------------------- 0.1/12.8 MB 151.3 kB/s eta 0:01:25\n",
      "     --------------------------------------- 0.1/12.8 MB 151.3 kB/s eta 0:01:25\n",
      "     --------------------------------------- 0.1/12.8 MB 151.3 kB/s eta 0:01:25\n",
      "     --------------------------------------- 0.1/12.8 MB 151.3 kB/s eta 0:01:25\n",
      "     --------------------------------------- 0.1/12.8 MB 172.7 kB/s eta 0:01:14\n",
      "     --------------------------------------- 0.1/12.8 MB 218.6 kB/s eta 0:00:58\n",
      "     --------------------------------------- 0.1/12.8 MB 218.6 kB/s eta 0:00:58\n",
      "     --------------------------------------- 0.1/12.8 MB 218.6 kB/s eta 0:00:58\n",
      "     --------------------------------------- 0.2/12.8 MB 193.0 kB/s eta 0:01:06\n",
      "      -------------------------------------- 0.2/12.8 MB 277.4 kB/s eta 0:00:46\n",
      "      -------------------------------------- 0.2/12.8 MB 277.4 kB/s eta 0:00:46\n",
      "      -------------------------------------- 0.2/12.8 MB 277.4 kB/s eta 0:00:46\n",
      "      -------------------------------------- 0.2/12.8 MB 277.4 kB/s eta 0:00:46\n",
      "     - ------------------------------------- 0.3/12.8 MB 317.8 kB/s eta 0:00:40\n",
      "     - ------------------------------------- 0.4/12.8 MB 347.6 kB/s eta 0:00:36\n",
      "     - ------------------------------------- 0.4/12.8 MB 347.6 kB/s eta 0:00:36\n",
      "     - ------------------------------------- 0.4/12.8 MB 347.6 kB/s eta 0:00:36\n",
      "     - ------------------------------------- 0.4/12.8 MB 319.2 kB/s eta 0:00:39\n",
      "     - ------------------------------------- 0.5/12.8 MB 380.5 kB/s eta 0:00:33\n",
      "     - ------------------------------------- 0.6/12.8 MB 423.7 kB/s eta 0:00:29\n",
      "     - ------------------------------------- 0.6/12.8 MB 423.7 kB/s eta 0:00:29\n",
      "     - ------------------------------------- 0.6/12.8 MB 423.7 kB/s eta 0:00:29\n",
      "     - ------------------------------------- 0.6/12.8 MB 423.7 kB/s eta 0:00:29\n",
      "     - ------------------------------------- 0.6/12.8 MB 423.7 kB/s eta 0:00:29\n",
      "     - ------------------------------------- 0.6/12.8 MB 412.3 kB/s eta 0:00:30\n",
      "     -- ------------------------------------ 0.7/12.8 MB 441.3 kB/s eta 0:00:28\n",
      "     -- ------------------------------------ 0.8/12.8 MB 491.5 kB/s eta 0:00:25\n",
      "     -- ------------------------------------ 0.9/12.8 MB 534.2 kB/s eta 0:00:23\n",
      "     --- ----------------------------------- 1.0/12.8 MB 590.1 kB/s eta 0:00:20\n",
      "     --- ----------------------------------- 1.1/12.8 MB 637.8 kB/s eta 0:00:19\n",
      "     --- ----------------------------------- 1.3/12.8 MB 689.4 kB/s eta 0:00:17\n",
      "     ---- ---------------------------------- 1.4/12.8 MB 742.7 kB/s eta 0:00:16\n",
      "     ---- ---------------------------------- 1.5/12.8 MB 778.3 kB/s eta 0:00:15\n",
      "     ---- ---------------------------------- 1.6/12.8 MB 814.1 kB/s eta 0:00:14\n",
      "     ----- --------------------------------- 1.7/12.8 MB 849.9 kB/s eta 0:00:14\n",
      "     ----- --------------------------------- 1.9/12.8 MB 910.9 kB/s eta 0:00:12\n",
      "     ----- --------------------------------- 1.9/12.8 MB 926.4 kB/s eta 0:00:12\n",
      "     ----- --------------------------------- 2.0/12.8 MB 902.4 kB/s eta 0:00:13\n",
      "     ------ -------------------------------- 2.1/12.8 MB 943.3 kB/s eta 0:00:12\n",
      "     ------ -------------------------------- 2.1/12.8 MB 946.6 kB/s eta 0:00:12\n",
      "     ------- -------------------------------- 2.3/12.8 MB 1.0 MB/s eta 0:00:11\n",
      "     ------- -------------------------------- 2.4/12.8 MB 1.0 MB/s eta 0:00:10\n",
      "     -------- ------------------------------- 2.6/12.8 MB 1.1 MB/s eta 0:00:10\n",
      "     -------- ------------------------------- 2.9/12.8 MB 1.2 MB/s eta 0:00:09\n",
      "     --------- ------------------------------ 3.1/12.8 MB 1.2 MB/s eta 0:00:08\n",
      "     ---------- ----------------------------- 3.2/12.8 MB 1.3 MB/s eta 0:00:08\n",
      "     ---------- ----------------------------- 3.4/12.8 MB 1.3 MB/s eta 0:00:08\n",
      "     ---------- ----------------------------- 3.5/12.8 MB 1.3 MB/s eta 0:00:07\n",
      "     ----------- ---------------------------- 3.6/12.8 MB 1.4 MB/s eta 0:00:07\n",
      "     ----------- ---------------------------- 3.6/12.8 MB 1.4 MB/s eta 0:00:07\n",
      "     ----------- ---------------------------- 3.8/12.8 MB 1.4 MB/s eta 0:00:07\n",
      "     ------------ --------------------------- 4.0/12.8 MB 1.4 MB/s eta 0:00:07\n",
      "     ------------- -------------------------- 4.2/12.8 MB 1.5 MB/s eta 0:00:06\n",
      "     ------------- -------------------------- 4.4/12.8 MB 1.5 MB/s eta 0:00:06\n",
      "     -------------- ------------------------- 4.6/12.8 MB 1.6 MB/s eta 0:00:06\n",
      "     -------------- ------------------------- 4.7/12.8 MB 1.6 MB/s eta 0:00:06\n",
      "     --------------- ------------------------ 5.0/12.8 MB 1.6 MB/s eta 0:00:05\n",
      "     --------------- ------------------------ 5.1/12.8 MB 1.6 MB/s eta 0:00:05\n",
      "     ---------------- ----------------------- 5.2/12.8 MB 1.7 MB/s eta 0:00:05\n",
      "     ---------------- ----------------------- 5.3/12.8 MB 1.7 MB/s eta 0:00:05\n",
      "     ----------------- ---------------------- 5.5/12.8 MB 1.7 MB/s eta 0:00:05\n",
      "     ----------------- ---------------------- 5.7/12.8 MB 1.7 MB/s eta 0:00:05\n",
      "     ------------------ --------------------- 5.8/12.8 MB 1.8 MB/s eta 0:00:04\n",
      "     ------------------ --------------------- 6.0/12.8 MB 1.8 MB/s eta 0:00:04\n",
      "     ------------------- -------------------- 6.1/12.8 MB 1.8 MB/s eta 0:00:04\n",
      "     ------------------- -------------------- 6.2/12.8 MB 1.8 MB/s eta 0:00:04\n",
      "     ------------------- -------------------- 6.3/12.8 MB 1.8 MB/s eta 0:00:04\n",
      "     -------------------- ------------------- 6.5/12.8 MB 1.8 MB/s eta 0:00:04\n",
      "     -------------------- ------------------- 6.5/12.8 MB 1.8 MB/s eta 0:00:04\n",
      "     -------------------- ------------------- 6.6/12.8 MB 1.8 MB/s eta 0:00:04\n",
      "     -------------------- ------------------- 6.7/12.8 MB 1.8 MB/s eta 0:00:04\n",
      "     -------------------- ------------------- 6.7/12.8 MB 1.8 MB/s eta 0:00:04\n",
      "     -------------------- ------------------- 6.7/12.8 MB 1.8 MB/s eta 0:00:04\n",
      "     -------------------- ------------------- 6.7/12.8 MB 1.8 MB/s eta 0:00:04\n",
      "     -------------------- ------------------- 6.7/12.8 MB 1.8 MB/s eta 0:00:04\n",
      "     --------------------- ------------------ 6.9/12.8 MB 1.8 MB/s eta 0:00:04\n",
      "     --------------------- ------------------ 6.9/12.8 MB 1.8 MB/s eta 0:00:04\n",
      "     ---------------------- ----------------- 7.2/12.8 MB 1.8 MB/s eta 0:00:04\n",
      "     ---------------------- ----------------- 7.3/12.8 MB 1.8 MB/s eta 0:00:04\n",
      "     ----------------------- ---------------- 7.4/12.8 MB 1.8 MB/s eta 0:00:04\n",
      "     ----------------------- ---------------- 7.4/12.8 MB 1.8 MB/s eta 0:00:03\n",
      "     ----------------------- ---------------- 7.6/12.8 MB 1.8 MB/s eta 0:00:03\n",
      "     ------------------------ --------------- 7.7/12.8 MB 1.8 MB/s eta 0:00:03\n",
      "     ------------------------ --------------- 7.8/12.8 MB 1.8 MB/s eta 0:00:03\n",
      "     ------------------------- -------------- 8.0/12.8 MB 1.8 MB/s eta 0:00:03\n",
      "     ------------------------- -------------- 8.1/12.8 MB 1.8 MB/s eta 0:00:03\n",
      "     ------------------------- -------------- 8.2/12.8 MB 1.9 MB/s eta 0:00:03\n",
      "     -------------------------- ------------- 8.3/12.8 MB 1.9 MB/s eta 0:00:03\n",
      "     -------------------------- ------------- 8.5/12.8 MB 1.9 MB/s eta 0:00:03\n",
      "     -------------------------- ------------- 8.6/12.8 MB 1.9 MB/s eta 0:00:03\n",
      "     --------------------------- ------------ 8.7/12.8 MB 1.9 MB/s eta 0:00:03\n",
      "     --------------------------- ------------ 8.8/12.8 MB 1.9 MB/s eta 0:00:03\n",
      "     ---------------------------- ----------- 9.0/12.8 MB 1.9 MB/s eta 0:00:03\n",
      "     ---------------------------- ----------- 9.0/12.8 MB 1.9 MB/s eta 0:00:02\n",
      "     ---------------------------- ----------- 9.1/12.8 MB 1.9 MB/s eta 0:00:02\n",
      "     ----------------------------- ---------- 9.3/12.8 MB 1.9 MB/s eta 0:00:02\n",
      "     ----------------------------- ---------- 9.5/12.8 MB 1.9 MB/s eta 0:00:02\n",
      "     ----------------------------- ---------- 9.6/12.8 MB 1.9 MB/s eta 0:00:02\n",
      "     ------------------------------ --------- 9.6/12.8 MB 1.9 MB/s eta 0:00:02\n",
      "     ------------------------------ --------- 9.8/12.8 MB 1.9 MB/s eta 0:00:02\n",
      "     ------------------------------ --------- 9.9/12.8 MB 1.9 MB/s eta 0:00:02\n",
      "     ------------------------------- -------- 10.1/12.8 MB 2.0 MB/s eta 0:00:02\n",
      "     ------------------------------- -------- 10.2/12.8 MB 2.0 MB/s eta 0:00:02\n",
      "     -------------------------------- ------- 10.3/12.8 MB 2.0 MB/s eta 0:00:02\n",
      "     -------------------------------- ------- 10.4/12.8 MB 2.2 MB/s eta 0:00:02\n",
      "     -------------------------------- ------- 10.5/12.8 MB 2.4 MB/s eta 0:00:01\n",
      "     --------------------------------- ------ 10.6/12.8 MB 2.4 MB/s eta 0:00:01\n",
      "     --------------------------------- ------ 10.7/12.8 MB 2.5 MB/s eta 0:00:01\n",
      "     --------------------------------- ------ 10.8/12.8 MB 2.6 MB/s eta 0:00:01\n",
      "     ---------------------------------- ----- 11.0/12.8 MB 2.6 MB/s eta 0:00:01\n",
      "     ---------------------------------- ----- 11.1/12.8 MB 2.6 MB/s eta 0:00:01\n",
      "     ---------------------------------- ----- 11.2/12.8 MB 2.6 MB/s eta 0:00:01\n",
      "     ----------------------------------- ---- 11.3/12.8 MB 2.6 MB/s eta 0:00:01\n",
      "     ----------------------------------- ---- 11.3/12.8 MB 2.6 MB/s eta 0:00:01\n",
      "     ----------------------------------- ---- 11.4/12.8 MB 2.6 MB/s eta 0:00:01\n",
      "     ------------------------------------ --- 11.6/12.8 MB 2.6 MB/s eta 0:00:01\n",
      "     ------------------------------------ --- 11.7/12.8 MB 2.6 MB/s eta 0:00:01\n",
      "     ------------------------------------- -- 11.9/12.8 MB 2.6 MB/s eta 0:00:01\n",
      "     ------------------------------------- -- 11.9/12.8 MB 2.6 MB/s eta 0:00:01\n",
      "     ------------------------------------- -- 12.1/12.8 MB 2.6 MB/s eta 0:00:01\n",
      "     -------------------------------------- - 12.2/12.8 MB 2.6 MB/s eta 0:00:01\n",
      "     -------------------------------------- - 12.3/12.8 MB 2.6 MB/s eta 0:00:01\n",
      "     -------------------------------------- - 12.4/12.8 MB 2.6 MB/s eta 0:00:01\n",
      "     ---------------------------------------  12.5/12.8 MB 2.6 MB/s eta 0:00:01\n",
      "     ---------------------------------------  12.6/12.8 MB 2.6 MB/s eta 0:00:01\n",
      "     ---------------------------------------  12.7/12.8 MB 2.6 MB/s eta 0:00:01\n",
      "     ---------------------------------------  12.8/12.8 MB 2.6 MB/s eta 0:00:01\n",
      "     ---------------------------------------- 12.8/12.8 MB 2.6 MB/s eta 0:00:00\n",
      "Requirement already satisfied: spacy<3.6.0,>=3.5.0 in c:\\python\\lib\\site-packages (from en-core-web-sm==3.5.0) (3.5.0)\n",
      "Requirement already satisfied: spacy-legacy<3.1.0,>=3.0.11 in c:\\python\\lib\\site-packages (from spacy<3.6.0,>=3.5.0->en-core-web-sm==3.5.0) (3.0.12)\n",
      "Requirement already satisfied: spacy-loggers<2.0.0,>=1.0.0 in c:\\python\\lib\\site-packages (from spacy<3.6.0,>=3.5.0->en-core-web-sm==3.5.0) (1.0.4)\n",
      "Requirement already satisfied: murmurhash<1.1.0,>=0.28.0 in c:\\python\\lib\\site-packages (from spacy<3.6.0,>=3.5.0->en-core-web-sm==3.5.0) (1.0.9)\n",
      "Requirement already satisfied: cymem<2.1.0,>=2.0.2 in c:\\python\\lib\\site-packages (from spacy<3.6.0,>=3.5.0->en-core-web-sm==3.5.0) (2.0.7)\n",
      "Requirement already satisfied: preshed<3.1.0,>=3.0.2 in c:\\python\\lib\\site-packages (from spacy<3.6.0,>=3.5.0->en-core-web-sm==3.5.0) (3.0.8)\n",
      "Requirement already satisfied: thinc<8.2.0,>=8.1.0 in c:\\python\\lib\\site-packages (from spacy<3.6.0,>=3.5.0->en-core-web-sm==3.5.0) (8.1.8)\n",
      "Requirement already satisfied: wasabi<1.2.0,>=0.9.1 in c:\\python\\lib\\site-packages (from spacy<3.6.0,>=3.5.0->en-core-web-sm==3.5.0) (1.1.1)\n",
      "Requirement already satisfied: srsly<3.0.0,>=2.4.3 in c:\\python\\lib\\site-packages (from spacy<3.6.0,>=3.5.0->en-core-web-sm==3.5.0) (2.4.6)\n",
      "Requirement already satisfied: catalogue<2.1.0,>=2.0.6 in c:\\python\\lib\\site-packages (from spacy<3.6.0,>=3.5.0->en-core-web-sm==3.5.0) (2.0.8)\n",
      "Requirement already satisfied: typer<0.8.0,>=0.3.0 in c:\\python\\lib\\site-packages (from spacy<3.6.0,>=3.5.0->en-core-web-sm==3.5.0) (0.7.0)\n",
      "Requirement already satisfied: pathy>=0.10.0 in c:\\python\\lib\\site-packages (from spacy<3.6.0,>=3.5.0->en-core-web-sm==3.5.0) (0.10.1)\n",
      "Requirement already satisfied: smart-open<7.0.0,>=5.2.1 in c:\\python\\lib\\site-packages (from spacy<3.6.0,>=3.5.0->en-core-web-sm==3.5.0) (6.3.0)\n",
      "Requirement already satisfied: tqdm<5.0.0,>=4.38.0 in c:\\python\\lib\\site-packages (from spacy<3.6.0,>=3.5.0->en-core-web-sm==3.5.0) (4.65.0)\n",
      "Requirement already satisfied: numpy>=1.15.0 in c:\\python\\lib\\site-packages (from spacy<3.6.0,>=3.5.0->en-core-web-sm==3.5.0) (1.24.2)\n",
      "Requirement already satisfied: requests<3.0.0,>=2.13.0 in c:\\python\\lib\\site-packages (from spacy<3.6.0,>=3.5.0->en-core-web-sm==3.5.0) (2.28.2)\n",
      "Requirement already satisfied: pydantic!=1.8,!=1.8.1,<1.11.0,>=1.7.4 in c:\\python\\lib\\site-packages (from spacy<3.6.0,>=3.5.0->en-core-web-sm==3.5.0) (1.10.5)\n",
      "Requirement already satisfied: jinja2 in c:\\python\\lib\\site-packages (from spacy<3.6.0,>=3.5.0->en-core-web-sm==3.5.0) (3.1.2)\n",
      "Requirement already satisfied: setuptools in c:\\python\\lib\\site-packages (from spacy<3.6.0,>=3.5.0->en-core-web-sm==3.5.0) (65.5.0)\n",
      "Requirement already satisfied: packaging>=20.0 in c:\\python\\lib\\site-packages (from spacy<3.6.0,>=3.5.0->en-core-web-sm==3.5.0) (23.0)\n",
      "Requirement already satisfied: langcodes<4.0.0,>=3.2.0 in c:\\python\\lib\\site-packages (from spacy<3.6.0,>=3.5.0->en-core-web-sm==3.5.0) (3.3.0)\n",
      "Requirement already satisfied: typing-extensions>=4.2.0 in c:\\python\\lib\\site-packages (from pydantic!=1.8,!=1.8.1,<1.11.0,>=1.7.4->spacy<3.6.0,>=3.5.0->en-core-web-sm==3.5.0) (4.5.0)\n",
      "Requirement already satisfied: charset-normalizer<4,>=2 in c:\\python\\lib\\site-packages (from requests<3.0.0,>=2.13.0->spacy<3.6.0,>=3.5.0->en-core-web-sm==3.5.0) (3.0.1)\n",
      "Requirement already satisfied: idna<4,>=2.5 in c:\\python\\lib\\site-packages (from requests<3.0.0,>=2.13.0->spacy<3.6.0,>=3.5.0->en-core-web-sm==3.5.0) (3.4)\n",
      "Requirement already satisfied: urllib3<1.27,>=1.21.1 in c:\\python\\lib\\site-packages (from requests<3.0.0,>=2.13.0->spacy<3.6.0,>=3.5.0->en-core-web-sm==3.5.0) (1.26.14)\n",
      "Requirement already satisfied: certifi>=2017.4.17 in c:\\python\\lib\\site-packages (from requests<3.0.0,>=2.13.0->spacy<3.6.0,>=3.5.0->en-core-web-sm==3.5.0) (2022.12.7)\n",
      "Requirement already satisfied: blis<0.8.0,>=0.7.8 in c:\\python\\lib\\site-packages (from thinc<8.2.0,>=8.1.0->spacy<3.6.0,>=3.5.0->en-core-web-sm==3.5.0) (0.7.9)\n",
      "Requirement already satisfied: confection<1.0.0,>=0.0.1 in c:\\python\\lib\\site-packages (from thinc<8.2.0,>=8.1.0->spacy<3.6.0,>=3.5.0->en-core-web-sm==3.5.0) (0.0.4)\n",
      "Requirement already satisfied: colorama in c:\\python\\lib\\site-packages (from tqdm<5.0.0,>=4.38.0->spacy<3.6.0,>=3.5.0->en-core-web-sm==3.5.0) (0.4.6)\n",
      "Requirement already satisfied: click<9.0.0,>=7.1.1 in c:\\python\\lib\\site-packages (from typer<0.8.0,>=0.3.0->spacy<3.6.0,>=3.5.0->en-core-web-sm==3.5.0) (8.1.3)\n",
      "Requirement already satisfied: MarkupSafe>=2.0 in c:\\python\\lib\\site-packages (from jinja2->spacy<3.6.0,>=3.5.0->en-core-web-sm==3.5.0) (2.1.2)\n",
      "Installing collected packages: en-core-web-sm\n",
      "Successfully installed en-core-web-sm-3.5.0\n",
      "\u001b[38;5;2m✔ Download and installation successful\u001b[0m\n",
      "You can now load the package via spacy.load('en_core_web_sm')\n"
     ]
    }
   ],
   "source": [
    "!python -m spacy download en_core_web_sm"
   ]
  },
  {
   "cell_type": "code",
   "execution_count": 6,
   "metadata": {},
   "outputs": [],
   "source": [
    "nlp = spacy.load(\"en_core_web_sm\")"
   ]
  },
  {
   "cell_type": "code",
   "execution_count": 8,
   "metadata": {},
   "outputs": [
    {
     "data": {
      "text/plain": [
       "spacy.lang.en.English"
      ]
     },
     "execution_count": 8,
     "metadata": {},
     "output_type": "execute_result"
    }
   ],
   "source": [
    "type(nlp)"
   ]
  },
  {
   "cell_type": "code",
   "execution_count": 21,
   "metadata": {},
   "outputs": [],
   "source": [
    "#Sample sentence\n",
    "s = \"He didn't want to $20 for this book.\"\n",
    "doc = nlp(s)"
   ]
  },
  {
   "cell_type": "code",
   "execution_count": 22,
   "metadata": {},
   "outputs": [
    {
     "name": "stdout",
     "output_type": "stream",
     "text": [
      "['He', 'did', \"n't\", 'want', 'to', '$', '20', 'for', 'this', 'book', '.']\n"
     ]
    }
   ],
   "source": [
    "print([t.text for t in doc])\n"
   ]
  },
  {
   "cell_type": "code",
   "execution_count": 23,
   "metadata": {},
   "outputs": [
    {
     "name": "stdout",
     "output_type": "stream",
     "text": [
      "He\n"
     ]
    }
   ],
   "source": [
    "# We can view an individual token by indexing it into the Doc object\n",
    "print(doc[0])"
   ]
  },
  {
   "cell_type": "code",
   "execution_count": 24,
   "metadata": {},
   "outputs": [
    {
     "name": "stdout",
     "output_type": "stream",
     "text": [
      "<class 'spacy.tokens.token.Token'>\n"
     ]
    }
   ],
   "source": [
    "# A doc obbject is a container of other objects, namely token and Span objects\n",
    "print(type(doc[0]))"
   ]
  },
  {
   "cell_type": "code",
   "execution_count": 25,
   "metadata": {},
   "outputs": [
    {
     "name": "stdout",
     "output_type": "stream",
     "text": [
      "He didn't\n",
      "<class 'spacy.tokens.span.Span'>\n"
     ]
    }
   ],
   "source": [
    "print(doc[0:3])\n",
    "print(type(doc[0:3]))"
   ]
  },
  {
   "cell_type": "code",
   "execution_count": 26,
   "metadata": {},
   "outputs": [
    {
     "name": "stdout",
     "output_type": "stream",
     "text": [
      "[('He', 0), ('did', 1), (\"n't\", 2), ('want', 3), ('to', 4), ('$', 5), ('20', 6), ('for', 7), ('this', 8), ('book', 9), ('.', 10)]\n"
     ]
    }
   ],
   "source": [
    "print([(t.text, t.i) for t in doc])"
   ]
  },
  {
   "cell_type": "code",
   "execution_count": 28,
   "metadata": {},
   "outputs": [
    {
     "name": "stdout",
     "output_type": "stream",
     "text": [
      "He didn't want to $20 for this book.\n"
     ]
    }
   ],
   "source": [
    "print(doc.text)"
   ]
  },
  {
   "cell_type": "code",
   "execution_count": null,
   "metadata": {},
   "outputs": [],
   "source": [
    "s = "
   ]
  }
 ],
 "metadata": {
  "kernelspec": {
   "display_name": "Python 3",
   "language": "python",
   "name": "python3"
  },
  "language_info": {
   "codemirror_mode": {
    "name": "ipython",
    "version": 3
   },
   "file_extension": ".py",
   "mimetype": "text/x-python",
   "name": "python",
   "nbconvert_exporter": "python",
   "pygments_lexer": "ipython3",
   "version": "3.11.2"
  },
  "orig_nbformat": 4
 },
 "nbformat": 4,
 "nbformat_minor": 2
}
